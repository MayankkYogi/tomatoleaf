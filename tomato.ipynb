{
 "cells": [
  {
   "cell_type": "code",
   "execution_count": 1,
   "metadata": {
    "colab": {
     "base_uri": "https://localhost:8080/",
     "height": 34
    },
    "id": "k4-jsTXf-Hbm",
    "outputId": "578a34e2-8f4c-484d-abda-dfbf45ee62e2"
   },
   "outputs": [
    {
     "name": "stdout",
     "output_type": "stream",
     "text": [
      "2.1.0\n"
     ]
    }
   ],
   "source": [
    "import tensorflow as tf\n",
    "print(tf.__version__)"
   ]
  },
  {
   "cell_type": "code",
   "execution_count": 2,
   "metadata": {
    "id": "LigKodR_-TZO"
   },
   "outputs": [],
   "source": [
    "from tensorflow.keras.layers import Input,Lambda,Flatten,Dense\n",
    "from tensorflow.keras.models import Sequential,Model\n",
    "import numpy as np\n",
    "import pandas as pd\n",
    "from tensorflow.keras.applications.inception_v3 import InceptionV3,preprocess_input\n",
    "from tensorflow.keras.applications.vgg16 import VGG16,preprocess_input\n",
    "from tensorflow.keras.preprocessing import image\n",
    "from tensorflow.keras.preprocessing.image import ImageDataGenerator\n",
    "from glob import glob\n"
   ]
  },
  {
   "cell_type": "code",
   "execution_count": 3,
   "metadata": {
    "id": "xKl0zBnd_Mq_"
   },
   "outputs": [],
   "source": [
    "IMAGE_SIZE = [224,224]\n",
    "\n",
    "train_path = r\"C:\\Users\\Mayank.Yogi\\Desktop\\Data Trained\\Heroku\\tomato\\datasets\\tomato\\train\"\n",
    "valid_path = r\"C:\\Users\\Mayank.Yogi\\Desktop\\Data Trained\\Heroku\\tomato\\datasets\\tomato\\val\""
   ]
  },
  {
   "cell_type": "code",
   "execution_count": 5,
   "metadata": {
    "id": "HpLT1vYP_fWp"
   },
   "outputs": [
    {
     "name": "stdout",
     "output_type": "stream",
     "text": [
      "Downloading data from https://github.com/fchollet/deep-learning-models/releases/download/v0.1/vgg16_weights_tf_dim_ordering_tf_kernels_notop.h5\n",
      "58892288/58889256 [==============================] - 1790s 30us/step\n"
     ]
    }
   ],
   "source": [
    "#inception = InceptionV3(input_shape=IMAGE_SIZE+[3],weights='imagenet',include_top=False)\n",
    "\n",
    "vgg = VGG16(input_shape = IMAGE_SIZE+[3],weights = 'imagenet',include_top=False)"
   ]
  },
  {
   "cell_type": "code",
   "execution_count": 7,
   "metadata": {
    "id": "HSfsVhGd_xqZ"
   },
   "outputs": [],
   "source": [
    "for layer in vgg.layers:\n",
    "    layer.trainable = False"
   ]
  },
  {
   "cell_type": "code",
   "execution_count": 8,
   "metadata": {
    "id": "lYgiadGp_-Ol"
   },
   "outputs": [],
   "source": [
    "folders = glob(r\"C:\\Users\\Mayank.Yogi\\Desktop\\Data Trained\\Heroku\\tomato\\datasets\\tomato\\train\\*\")"
   ]
  },
  {
   "cell_type": "code",
   "execution_count": 9,
   "metadata": {
    "colab": {
     "base_uri": "https://localhost:8080/",
     "height": 193
    },
    "id": "rhMx8_TCAOXh",
    "outputId": "873237cb-050b-4869-8729-7035f3b542e4"
   },
   "outputs": [
    {
     "data": {
      "text/plain": [
       "['C:\\\\Users\\\\Mayank.Yogi\\\\Desktop\\\\Data Trained\\\\Heroku\\\\tomato\\\\datasets\\\\tomato\\\\train\\\\Tomato___Bacterial_spot',\n",
       " 'C:\\\\Users\\\\Mayank.Yogi\\\\Desktop\\\\Data Trained\\\\Heroku\\\\tomato\\\\datasets\\\\tomato\\\\train\\\\Tomato___Early_blight',\n",
       " 'C:\\\\Users\\\\Mayank.Yogi\\\\Desktop\\\\Data Trained\\\\Heroku\\\\tomato\\\\datasets\\\\tomato\\\\train\\\\Tomato___healthy',\n",
       " 'C:\\\\Users\\\\Mayank.Yogi\\\\Desktop\\\\Data Trained\\\\Heroku\\\\tomato\\\\datasets\\\\tomato\\\\train\\\\Tomato___Late_blight',\n",
       " 'C:\\\\Users\\\\Mayank.Yogi\\\\Desktop\\\\Data Trained\\\\Heroku\\\\tomato\\\\datasets\\\\tomato\\\\train\\\\Tomato___Leaf_Mold',\n",
       " 'C:\\\\Users\\\\Mayank.Yogi\\\\Desktop\\\\Data Trained\\\\Heroku\\\\tomato\\\\datasets\\\\tomato\\\\train\\\\Tomato___Septoria_leaf_spot',\n",
       " 'C:\\\\Users\\\\Mayank.Yogi\\\\Desktop\\\\Data Trained\\\\Heroku\\\\tomato\\\\datasets\\\\tomato\\\\train\\\\Tomato___Spider_mites Two-spotted_spider_mite',\n",
       " 'C:\\\\Users\\\\Mayank.Yogi\\\\Desktop\\\\Data Trained\\\\Heroku\\\\tomato\\\\datasets\\\\tomato\\\\train\\\\Tomato___Target_Spot',\n",
       " 'C:\\\\Users\\\\Mayank.Yogi\\\\Desktop\\\\Data Trained\\\\Heroku\\\\tomato\\\\datasets\\\\tomato\\\\train\\\\Tomato___Tomato_mosaic_virus',\n",
       " 'C:\\\\Users\\\\Mayank.Yogi\\\\Desktop\\\\Data Trained\\\\Heroku\\\\tomato\\\\datasets\\\\tomato\\\\train\\\\Tomato___Tomato_Yellow_Leaf_Curl_Virus']"
      ]
     },
     "execution_count": 9,
     "metadata": {},
     "output_type": "execute_result"
    }
   ],
   "source": [
    "folders"
   ]
  },
  {
   "cell_type": "code",
   "execution_count": 10,
   "metadata": {
    "id": "_OQfxA9PAQXp"
   },
   "outputs": [],
   "source": [
    "x = Flatten()(vgg.output)"
   ]
  },
  {
   "cell_type": "code",
   "execution_count": 11,
   "metadata": {
    "id": "edkukb4xAWg8"
   },
   "outputs": [],
   "source": [
    "prediction = Dense(len(folders),activation='softmax')(x)"
   ]
  },
  {
   "cell_type": "code",
   "execution_count": 13,
   "metadata": {
    "id": "CEZfbXlHAeD6"
   },
   "outputs": [],
   "source": [
    "model = Model(inputs=vgg.input,outputs = prediction)"
   ]
  },
  {
   "cell_type": "code",
   "execution_count": 14,
   "metadata": {
    "colab": {
     "base_uri": "https://localhost:8080/",
     "height": 1000
    },
    "id": "e_9Ia3srAlx2",
    "outputId": "57f47752-f2e8-4e35-f154-52d5b2601eaf"
   },
   "outputs": [
    {
     "name": "stdout",
     "output_type": "stream",
     "text": [
      "Model: \"model\"\n",
      "_________________________________________________________________\n",
      "Layer (type)                 Output Shape              Param #   \n",
      "=================================================================\n",
      "input_2 (InputLayer)         [(None, 224, 224, 3)]     0         \n",
      "_________________________________________________________________\n",
      "block1_conv1 (Conv2D)        (None, 224, 224, 64)      1792      \n",
      "_________________________________________________________________\n",
      "block1_conv2 (Conv2D)        (None, 224, 224, 64)      36928     \n",
      "_________________________________________________________________\n",
      "block1_pool (MaxPooling2D)   (None, 112, 112, 64)      0         \n",
      "_________________________________________________________________\n",
      "block2_conv1 (Conv2D)        (None, 112, 112, 128)     73856     \n",
      "_________________________________________________________________\n",
      "block2_conv2 (Conv2D)        (None, 112, 112, 128)     147584    \n",
      "_________________________________________________________________\n",
      "block2_pool (MaxPooling2D)   (None, 56, 56, 128)       0         \n",
      "_________________________________________________________________\n",
      "block3_conv1 (Conv2D)        (None, 56, 56, 256)       295168    \n",
      "_________________________________________________________________\n",
      "block3_conv2 (Conv2D)        (None, 56, 56, 256)       590080    \n",
      "_________________________________________________________________\n",
      "block3_conv3 (Conv2D)        (None, 56, 56, 256)       590080    \n",
      "_________________________________________________________________\n",
      "block3_pool (MaxPooling2D)   (None, 28, 28, 256)       0         \n",
      "_________________________________________________________________\n",
      "block4_conv1 (Conv2D)        (None, 28, 28, 512)       1180160   \n",
      "_________________________________________________________________\n",
      "block4_conv2 (Conv2D)        (None, 28, 28, 512)       2359808   \n",
      "_________________________________________________________________\n",
      "block4_conv3 (Conv2D)        (None, 28, 28, 512)       2359808   \n",
      "_________________________________________________________________\n",
      "block4_pool (MaxPooling2D)   (None, 14, 14, 512)       0         \n",
      "_________________________________________________________________\n",
      "block5_conv1 (Conv2D)        (None, 14, 14, 512)       2359808   \n",
      "_________________________________________________________________\n",
      "block5_conv2 (Conv2D)        (None, 14, 14, 512)       2359808   \n",
      "_________________________________________________________________\n",
      "block5_conv3 (Conv2D)        (None, 14, 14, 512)       2359808   \n",
      "_________________________________________________________________\n",
      "block5_pool (MaxPooling2D)   (None, 7, 7, 512)         0         \n",
      "_________________________________________________________________\n",
      "flatten (Flatten)            (None, 25088)             0         \n",
      "_________________________________________________________________\n",
      "dense (Dense)                (None, 10)                250890    \n",
      "=================================================================\n",
      "Total params: 14,965,578\n",
      "Trainable params: 250,890\n",
      "Non-trainable params: 14,714,688\n",
      "_________________________________________________________________\n"
     ]
    }
   ],
   "source": [
    "model.summary()"
   ]
  },
  {
   "cell_type": "code",
   "execution_count": 15,
   "metadata": {
    "id": "VBeyr98rAnW0"
   },
   "outputs": [],
   "source": [
    "model.compile(loss='categorical_crossentropy',optimizer='adam',metrics=['accuracy'])"
   ]
  },
  {
   "cell_type": "code",
   "execution_count": 16,
   "metadata": {
    "id": "0-VmHSTYBAi1"
   },
   "outputs": [],
   "source": [
    "train_datagen = ImageDataGenerator(rescale=1./255,shear_range=0.2,zoom_range=0.2,horizontal_flip=True)\n",
    "test_datagen = ImageDataGenerator(rescale=1./255)"
   ]
  },
  {
   "cell_type": "code",
   "execution_count": 17,
   "metadata": {
    "colab": {
     "base_uri": "https://localhost:8080/",
     "height": 34
    },
    "id": "OMsWIZhvBQOA",
    "outputId": "c423eb17-956d-43cb-ad6f-442924f30fde"
   },
   "outputs": [
    {
     "name": "stdout",
     "output_type": "stream",
     "text": [
      "Found 9997 images belonging to 10 classes.\n"
     ]
    }
   ],
   "source": [
    "training_set =  train_datagen.flow_from_directory(r\"C:\\Users\\Mayank.Yogi\\Desktop\\Data Trained\\Heroku\\tomato\\datasets\\tomato\\train\",\n",
    "                                                  target_size = (224,224),\n",
    "                                                  batch_size = 32,\n",
    "                                                  class_mode = 'categorical')"
   ]
  },
  {
   "cell_type": "code",
   "execution_count": 18,
   "metadata": {
    "colab": {
     "base_uri": "https://localhost:8080/",
     "height": 34
    },
    "id": "-XJ3LmsBBkWi",
    "outputId": "e9de8d0f-75a4-450e-e40b-647e810ab883"
   },
   "outputs": [
    {
     "name": "stdout",
     "output_type": "stream",
     "text": [
      "Found 984 images belonging to 10 classes.\n"
     ]
    }
   ],
   "source": [
    "test_set =  test_datagen.flow_from_directory(r\"C:\\Users\\Mayank.Yogi\\Desktop\\Data Trained\\Heroku\\tomato\\datasets\\tomato\\val\",\n",
    "                                                  target_size = (224,224),\n",
    "                                                  batch_size = 32,\n",
    "                                                  class_mode = 'categorical')"
   ]
  },
  {
   "cell_type": "code",
   "execution_count": 19,
   "metadata": {
    "colab": {
     "base_uri": "https://localhost:8080/",
     "height": 389
    },
    "id": "4n6HdO6EBt7b",
    "outputId": "8172ddf8-42ae-492b-fccd-537c65819000"
   },
   "outputs": [
    {
     "name": "stdout",
     "output_type": "stream",
     "text": [
      "WARNING:tensorflow:From <ipython-input-19-e325127ba653>:1: Model.fit_generator (from tensorflow.python.keras.engine.training) is deprecated and will be removed in a future version.\n",
      "Instructions for updating:\n",
      "Please use Model.fit, which supports generators.\n",
      "WARNING:tensorflow:sample_weight modes were coerced from\n",
      "  ...\n",
      "    to  \n",
      "  ['...']\n",
      "WARNING:tensorflow:sample_weight modes were coerced from\n",
      "  ...\n",
      "    to  \n",
      "  ['...']\n",
      "Train for 313 steps, validate for 31 steps\n",
      "Epoch 1/10\n",
      "313/313 [==============================] - 1857s 6s/step - loss: 0.8704 - accuracy: 0.7119 - val_loss: 0.6444 - val_accuracy: 0.7866\n",
      "Epoch 2/10\n",
      "313/313 [==============================] - 1293s 4s/step - loss: 0.4478 - accuracy: 0.8459 - val_loss: 0.6103 - val_accuracy: 0.8069\n",
      "Epoch 3/10\n",
      "313/313 [==============================] - 1316s 4s/step - loss: 0.3701 - accuracy: 0.8746 - val_loss: 0.7979 - val_accuracy: 0.7795\n",
      "Epoch 4/10\n",
      "313/313 [==============================] - 1381s 4s/step - loss: 0.3337 - accuracy: 0.8875 - val_loss: 0.4931 - val_accuracy: 0.8526\n",
      "Epoch 5/10\n",
      "313/313 [==============================] - 1309s 4s/step - loss: 0.2551 - accuracy: 0.9139 - val_loss: 0.4654 - val_accuracy: 0.8577\n",
      "Epoch 6/10\n",
      "313/313 [==============================] - 1336s 4s/step - loss: 0.2546 - accuracy: 0.9116 - val_loss: 0.5505 - val_accuracy: 0.8293\n",
      "Epoch 7/10\n",
      "313/313 [==============================] - 1288s 4s/step - loss: 0.2430 - accuracy: 0.9162 - val_loss: 0.8338 - val_accuracy: 0.7978\n",
      "Epoch 8/10\n",
      "313/313 [==============================] - 1302s 4s/step - loss: 0.2029 - accuracy: 0.9317 - val_loss: 0.7505 - val_accuracy: 0.8140\n",
      "Epoch 9/10\n",
      "313/313 [==============================] - 1291s 4s/step - loss: 0.1942 - accuracy: 0.9341 - val_loss: 0.5862 - val_accuracy: 0.8404\n",
      "Epoch 10/10\n",
      "313/313 [==============================] - 1291s 4s/step - loss: 0.1710 - accuracy: 0.9404 - val_loss: 0.4977 - val_accuracy: 0.8638\n"
     ]
    }
   ],
   "source": [
    "r = model.fit_generator(training_set,validation_data=test_set,epochs=10,steps_per_epoch=len(training_set),validation_steps=len(test_set))"
   ]
  },
  {
   "cell_type": "code",
   "execution_count": 20,
   "metadata": {
    "colab": {
     "base_uri": "https://localhost:8080/",
     "height": 534
    },
    "id": "Hv1yhrcICCTq",
    "outputId": "1a3ecb6a-5ec1-470a-af06-cf21fa9c7ee3"
   },
   "outputs": [
    {
     "data": {
      "image/png": "[encoded data removed]",
      "text/plain": [
       "<Figure size 432x288 with 1 Axes>"
      ]
     },
     "metadata": {
      "needs_background": "light"
     },
     "output_type": "display_data"
    },
    {
     "data": {
      "image/png": "[encoded data removed]",
      "text/plain": [
       "<Figure size 432x288 with 1 Axes>"
      ]
     },
     "metadata": {
      "needs_background": "light"
     },
     "output_type": "display_data"
    },
    {
     "data": {
      "text/plain": [
       "<Figure size 432x288 with 0 Axes>"
      ]
     },
     "metadata": {},
     "output_type": "display_data"
    }
   ],
   "source": [
    "import matplotlib.pyplot as plt\n",
    "# plot the loss\n",
    "plt.plot(r.history['loss'], label='train loss')\n",
    "plt.plot(r.history['val_loss'], label='val loss')\n",
    "plt.legend()\n",
    "plt.show()\n",
    "plt.savefig('LossVal_loss')\n",
    "\n",
    "# plot the accuracy\n",
    "plt.plot(r.history['accuracy'], label='train acc')\n",
    "plt.plot(r.history['val_accuracy'], label='val acc')\n",
    "plt.legend()\n",
    "plt.show()\n",
    "plt.savefig('AccVal_acc')"
   ]
  },
  {
   "cell_type": "code",
   "execution_count": 21,
   "metadata": {
    "id": "DM_5813VPjz6"
   },
   "outputs": [],
   "source": [
    "# save it as a h5 file\n",
    "from tensorflow.keras.models import load_model\n",
    "model.save('tomato.h5')"
   ]
  },
  {
   "cell_type": "code",
   "execution_count": 22,
   "metadata": {
    "id": "pnDiMO3mPvpJ"
   },
   "outputs": [],
   "source": [
    "y_pred = model.predict(test_set)"
   ]
  },
  {
   "cell_type": "code",
   "execution_count": 23,
   "metadata": {
    "colab": {
     "base_uri": "https://localhost:8080/",
     "height": 246
    },
    "id": "EXgTeELwP7ek",
    "outputId": "cbeba2fd-e044-4f01-9f1e-a045f705ea2f"
   },
   "outputs": [
    {
     "data": {
      "text/plain": [
       "array([[2.1599508e-03, 2.8653913e-05, 1.0428128e-05, ..., 9.9776208e-01,\n",
       "        3.1623835e-11, 3.9759099e-11],\n",
       "       [4.6692958e-07, 1.9179297e-05, 4.0675743e-09, ..., 4.3934114e-12,\n",
       "        1.8188031e-08, 9.8451828e-06],\n",
       "       [1.4192753e-10, 1.5411313e-05, 9.3728019e-08, ..., 8.1645267e-11,\n",
       "        3.5499447e-11, 4.8563346e-02],\n",
       "       ...,\n",
       "       [2.1466006e-04, 4.2173317e-01, 5.7610631e-01, ..., 2.3202473e-04,\n",
       "        8.1500383e-13, 1.0449539e-08],\n",
       "       [2.1814495e-04, 3.4924371e-03, 1.3384858e-05, ..., 1.3613221e-01,\n",
       "        8.4243929e-06, 5.5583360e-10],\n",
       "       [1.3018002e-11, 4.7003769e-07, 1.0019478e-10, ..., 2.7957543e-09,\n",
       "        6.0083106e-12, 9.9951351e-01]], dtype=float32)"
      ]
     },
     "execution_count": 23,
     "metadata": {},
     "output_type": "execute_result"
    }
   ],
   "source": [
    "y_pred"
   ]
  },
  {
   "cell_type": "code",
   "execution_count": 24,
   "metadata": {
    "colab": {
     "base_uri": "https://localhost:8080/",
     "height": 34
    },
    "id": "C63XBBbXP8av",
    "outputId": "b87e740c-dba5-402a-e74b-73080d33318f"
   },
   "outputs": [
    {
     "data": {
      "text/plain": [
       "array([7, 6, 6, 0, 0, 5, 2, 1, 0, 5, 4, 5, 5, 9, 8, 2, 5, 1, 1, 9, 6, 4,\n",
       "       3, 0, 1, 8, 0, 7, 3, 6, 1, 4, 5, 2, 1, 9, 0, 9, 9, 3, 8, 6, 4, 0,\n",
       "       2, 4, 3, 1, 3, 6, 9, 3, 5, 4, 6, 7, 7, 9, 4, 9, 9, 6, 2, 6, 6, 5,\n",
       "       3, 4, 7, 3, 2, 5, 3, 8, 3, 5, 4, 1, 8, 2, 2, 6, 4, 0, 4, 3, 2, 3,\n",
       "       5, 3, 7, 2, 5, 5, 2, 0, 5, 9, 4, 6, 5, 3, 4, 0, 7, 9, 3, 2, 7, 5,\n",
       "       4, 7, 6, 7, 5, 1, 9, 4, 8, 8, 4, 3, 8, 8, 9, 8, 2, 1, 1, 5, 8, 8,\n",
       "       7, 4, 6, 1, 3, 4, 6, 1, 1, 2, 2, 3, 9, 2, 3, 8, 8, 7, 8, 0, 4, 3,\n",
       "       2, 5, 2, 9, 3, 1, 5, 7, 3, 1, 3, 7, 9, 0, 3, 1, 1, 0, 9, 7, 5, 9,\n",
       "       6, 5, 6, 1, 6, 5, 3, 2, 8, 9, 1, 8, 0, 5, 3, 8, 8, 0, 9, 8, 3, 5,\n",
       "       0, 7, 7, 8, 2, 8, 1, 9, 0, 5, 9, 9, 9, 1, 2, 9, 9, 9, 0, 7, 3, 1,\n",
       "       2, 6, 8, 8, 6, 0, 8, 7, 1, 6, 2, 2, 5, 0, 6, 5, 5, 3, 7, 8, 0, 2,\n",
       "       8, 7, 0, 9, 9, 0, 5, 8, 0, 0, 2, 4, 8, 0, 6, 0, 7, 8, 4, 5, 6, 5,\n",
       "       0, 9, 8, 2, 5, 6, 1, 9, 5, 2, 2, 8, 3, 0, 0, 7, 7, 5, 5, 8, 4, 6,\n",
       "       5, 7, 3, 8, 2, 5, 0, 9, 9, 3, 4, 4, 1, 5, 5, 5, 1, 1, 3, 3, 6, 6,\n",
       "       5, 5, 3, 6, 4, 8, 7, 4, 5, 4, 0, 6, 4, 1, 1, 4, 5, 7, 0, 1, 5, 7,\n",
       "       2, 3, 1, 2, 7, 6, 2, 2, 1, 4, 1, 2, 8, 6, 2, 8, 0, 4, 3, 3, 1, 5,\n",
       "       4, 1, 3, 4, 5, 2, 2, 4, 3, 4, 1, 8, 5, 6, 2, 8, 1, 9, 9, 0, 9, 1,\n",
       "       8, 7, 0, 2, 4, 1, 5, 6, 7, 5, 1, 2, 5, 0, 3, 7, 0, 3, 7, 9, 3, 6,\n",
       "       6, 0, 9, 0, 8, 5, 1, 2, 7, 0, 3, 5, 4, 8, 7, 2, 6, 5, 4, 4, 2, 8,\n",
       "       8, 5, 2, 8, 4, 3, 4, 3, 0, 6, 1, 0, 3, 9, 9, 9, 8, 0, 2, 4, 2, 2,\n",
       "       4, 6, 5, 7, 5, 5, 8, 4, 6, 3, 0, 2, 8, 1, 8, 4, 2, 1, 3, 2, 3, 9,\n",
       "       6, 4, 9, 2, 8, 3, 5, 2, 0, 9, 2, 9, 2, 0, 1, 1, 3, 5, 9, 4, 7, 6,\n",
       "       1, 7, 9, 1, 2, 2, 4, 8, 0, 8, 5, 7, 0, 7, 2, 2, 3, 3, 8, 3, 6, 3,\n",
       "       7, 5, 6, 1, 1, 2, 1, 5, 0, 2, 1, 5, 0, 1, 8, 8, 0, 2, 8, 8, 8, 4,\n",
       "       4, 6, 1, 8, 8, 8, 2, 1, 0, 7, 1, 1, 8, 8, 7, 7, 7, 7, 6, 5, 8, 1,\n",
       "       7, 3, 2, 0, 9, 8, 8, 9, 5, 4, 1, 0, 1, 6, 9, 8, 6, 9, 7, 6, 5, 1,\n",
       "       3, 4, 1, 7, 8, 1, 6, 6, 5, 4, 9, 7, 0, 2, 3, 6, 5, 5, 8, 8, 3, 9,\n",
       "       7, 4, 8, 9, 3, 2, 0, 1, 9, 8, 6, 9, 4, 7, 9, 0, 4, 2, 2, 0, 3, 6,\n",
       "       3, 4, 4, 3, 8, 2, 5, 4, 6, 4, 7, 1, 2, 3, 0, 6, 1, 8, 1, 6, 4, 6,\n",
       "       8, 0, 8, 5, 3, 0, 4, 3, 6, 2, 0, 5, 3, 3, 4, 3, 6, 0, 5, 0, 7, 2,\n",
       "       0, 7, 0, 8, 7, 9, 8, 0, 3, 8, 1, 8, 0, 9, 9, 0, 8, 8, 0, 9, 7, 0,\n",
       "       5, 6, 1, 1, 9, 8, 2, 4, 3, 1, 7, 4, 4, 1, 8, 5, 3, 3, 5, 1, 3, 5,\n",
       "       3, 5, 9, 5, 1, 4, 1, 9, 9, 0, 8, 3, 5, 8, 4, 9, 6, 1, 4, 4, 1, 0,\n",
       "       6, 3, 7, 2, 3, 0, 3, 2, 4, 8, 1, 3, 0, 5, 2, 8, 3, 6, 0, 5, 5, 0,\n",
       "       4, 5, 6, 5, 8, 0, 1, 9, 9, 3, 2, 7, 8, 5, 5, 0, 1, 7, 7, 6, 9, 5,\n",
       "       6, 6, 8, 5, 0, 3, 2, 5, 0, 8, 1, 7, 7, 3, 2, 1, 8, 3, 9, 5, 0, 4,\n",
       "       4, 3, 7, 5, 7, 1, 9, 3, 7, 7, 8, 2, 1, 7, 6, 9, 4, 9, 3, 8, 3, 0,\n",
       "       4, 8, 3, 5, 1, 1, 9, 6, 8, 2, 3, 2, 0, 2, 3, 0, 9, 3, 1, 3, 6, 2,\n",
       "       8, 9, 2, 6, 3, 0, 1, 2, 9, 9, 3, 6, 9, 7, 2, 4, 0, 9, 2, 5, 9, 1,\n",
       "       1, 0, 5, 4, 9, 0, 5, 1, 8, 5, 0, 4, 7, 5, 1, 6, 7, 3, 0, 9, 2, 0,\n",
       "       3, 5, 5, 3, 6, 1, 4, 7, 0, 8, 9, 3, 4, 1, 6, 6, 5, 1, 7, 5, 7, 5,\n",
       "       7, 8, 0, 4, 0, 9, 3, 2, 5, 0, 8, 5, 0, 7, 9, 7, 9, 9, 3, 0, 4, 3,\n",
       "       7, 0, 6, 0, 3, 6, 3, 0, 4, 7, 0, 7, 6, 5, 7, 8, 9, 2, 1, 7, 7, 6,\n",
       "       3, 3, 3, 2, 1, 6, 3, 9, 1, 0, 1, 6, 5, 3, 7, 1, 5, 1, 3, 1, 6, 1,\n",
       "       1, 8, 0, 9, 9, 1, 8, 1, 7, 9, 7, 8, 0, 2, 3, 9], dtype=int64)"
      ]
     },
     "execution_count": 24,
     "metadata": {},
     "output_type": "execute_result"
    }
   ],
   "source": [
    "y_pred = np.argmax(y_pred, axis=1)\n",
    "y_pred"
   ]
  },
  {
   "cell_type": "code",
   "execution_count": 25,
   "metadata": {
    "id": "WOG2xNWHQBXa"
   },
   "outputs": [],
   "source": [
    "from tensorflow.keras.models import load_model"
   ]
  },
  {
   "cell_type": "code",
   "execution_count": 26,
   "metadata": {
    "id": "X7VpVDlhQIJj"
   },
   "outputs": [],
   "source": [
    "model=load_model(r\"C:\\Users\\Mayank.Yogi\\Desktop\\Data Trained\\Heroku\\tomato\\tomato.h5\")"
   ]
  },
  {
   "cell_type": "code",
   "execution_count": 27,
   "metadata": {
    "id": "7WnEcVKSQQo6"
   },
   "outputs": [],
   "source": [
    "img=image.load_img(r\"C:\\Users\\Mayank.Yogi\\Desktop\\Data Trained\\Heroku\\tomato\\datasets\\tomato\\val\\Tomato___Tomato_Yellow_Leaf_Curl_Virus\\1af07f2b-027b-4792-80c5-2c20a4ed538c___YLCV_NREC 0179.JPG\",target_size=(224,224))"
   ]
  },
  {
   "cell_type": "code",
   "execution_count": 28,
   "metadata": {
    "colab": {
     "base_uri": "https://localhost:8080/",
     "height": 879
    },
    "id": "YPgTCAj5QWPr",
    "outputId": "0d6efcad-296f-494e-d89d-ab9e74f95979"
   },
   "outputs": [
    {
     "data": {
      "text/plain": [
       "array([[[128., 112., 115.],\n",
       "        [127., 111., 114.],\n",
       "        [127., 111., 114.],\n",
       "        ...,\n",
       "        [128., 112., 115.],\n",
       "        [142., 126., 129.],\n",
       "        [145., 129., 132.]],\n",
       "\n",
       "       [[119., 103., 106.],\n",
       "        [122., 106., 109.],\n",
       "        [115.,  99., 102.],\n",
       "        ...,\n",
       "        [143., 127., 130.],\n",
       "        [151., 135., 138.],\n",
       "        [158., 142., 145.]],\n",
       "\n",
       "       [[118., 102., 105.],\n",
       "        [125., 109., 112.],\n",
       "        [118., 102., 105.],\n",
       "        ...,\n",
       "        [159., 143., 146.],\n",
       "        [148., 132., 135.],\n",
       "        [152., 136., 139.]],\n",
       "\n",
       "       ...,\n",
       "\n",
       "       [[154., 139., 144.],\n",
       "        [141., 126., 131.],\n",
       "        [109.,  94.,  99.],\n",
       "        ...,\n",
       "        [140., 123., 129.],\n",
       "        [134., 117., 123.],\n",
       "        [150., 133., 139.]],\n",
       "\n",
       "       [[113.,  98., 103.],\n",
       "        [116., 101., 106.],\n",
       "        [103.,  88.,  93.],\n",
       "        ...,\n",
       "        [140., 123., 129.],\n",
       "        [135., 118., 124.],\n",
       "        [168., 151., 157.]],\n",
       "\n",
       "       [[128., 113., 118.],\n",
       "        [134., 119., 124.],\n",
       "        [153., 138., 143.],\n",
       "        ...,\n",
       "        [165., 148., 154.],\n",
       "        [134., 117., 123.],\n",
       "        [153., 136., 142.]]], dtype=float32)"
      ]
     },
     "execution_count": 28,
     "metadata": {},
     "output_type": "execute_result"
    }
   ],
   "source": [
    "x=image.img_to_array(img)\n",
    "x\n"
   ]
  },
  {
   "cell_type": "code",
   "execution_count": 29,
   "metadata": {
    "colab": {
     "base_uri": "https://localhost:8080/",
     "height": 34
    },
    "id": "AATzTdEcQ3Fl",
    "outputId": "b3a63e34-5881-44b9-85e3-9c63ea6e9345"
   },
   "outputs": [
    {
     "data": {
      "text/plain": [
       "(224, 224, 3)"
      ]
     },
     "execution_count": 29,
     "metadata": {},
     "output_type": "execute_result"
    }
   ],
   "source": [
    "x.shape"
   ]
  },
  {
   "cell_type": "code",
   "execution_count": 30,
   "metadata": {
    "colab": {
     "base_uri": "https://localhost:8080/",
     "height": 34
    },
    "id": "fFRJQAHxQ3-A",
    "outputId": "a9143457-0df1-4fd6-9ede-a6f6603298bb"
   },
   "outputs": [
    {
     "data": {
      "text/plain": [
       "(1, 224, 224, 3)"
      ]
     },
     "execution_count": 30,
     "metadata": {},
     "output_type": "execute_result"
    }
   ],
   "source": [
    "x=x/255\n",
    "x=np.expand_dims(x,axis=0)\n",
    "img_data=preprocess_input(x)\n",
    "img_data.shape"
   ]
  },
  {
   "cell_type": "code",
   "execution_count": 31,
   "metadata": {
    "colab": {
     "base_uri": "https://localhost:8080/",
     "height": 70
    },
    "id": "q4jgJ8fnRAAS",
    "outputId": "8b51317f-4b3e-4860-d15a-9e07380b0dac"
   },
   "outputs": [
    {
     "data": {
      "text/plain": [
       "array([[4.6429950e-11, 9.1767329e-24, 9.8939937e-01, 1.7780396e-03,\n",
       "        6.8224911e-03, 1.8657994e-21, 1.1372740e-12, 3.9868717e-10,\n",
       "        2.0001088e-03, 3.7853513e-32]], dtype=float32)"
      ]
     },
     "execution_count": 31,
     "metadata": {},
     "output_type": "execute_result"
    }
   ],
   "source": [
    "model.predict(img_data)"
   ]
  },
  {
   "cell_type": "code",
   "execution_count": 32,
   "metadata": {
    "id": "5b1c1sP8RAy3"
   },
   "outputs": [],
   "source": [
    "a=np.argmax(model.predict(img_data), axis=1)"
   ]
  },
  {
   "cell_type": "code",
   "execution_count": 33,
   "metadata": {
    "colab": {
     "base_uri": "https://localhost:8080/",
     "height": 34
    },
    "id": "eJuUEVvYRDwT",
    "outputId": "89fd1e39-3f3a-4412-81ab-f2de53867480"
   },
   "outputs": [
    {
     "data": {
      "text/plain": [
       "array([2], dtype=int64)"
      ]
     },
     "execution_count": 33,
     "metadata": {},
     "output_type": "execute_result"
    }
   ],
   "source": [
    "a"
   ]
  },
  {
   "cell_type": "code",
   "execution_count": null,
   "metadata": {},
   "outputs": [],
   "source": []
  }
 ],
 "metadata": {
  "accelerator": "GPU",
  "colab": {
   "name": "tomato.ipynb",
   "provenance": []
  },
  "kernelspec": {
   "display_name": "Python 3",
   "language": "python",
   "name": "python3"
  },
  "language_info": {
   "codemirror_mode": {
    "name": "ipython",
    "version": 3
   },
   "file_extension": ".py",
   "mimetype": "text/x-python",
   "name": "python",
   "nbconvert_exporter": "python",
   "pygments_lexer": "ipython3",
   "version": "3.7.7"
  }
 },
 "nbformat": 4,
 "nbformat_minor": 1
}
